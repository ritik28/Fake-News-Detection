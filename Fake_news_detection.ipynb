{
 "cells": [
  {
   "cell_type": "markdown",
   "metadata": {},
   "source": [
    "# Fake news Detection"
   ]
  },
  {
   "cell_type": "markdown",
   "metadata": {},
   "source": [
    "### Importing required library\n"
   ]
  },
  {
   "cell_type": "code",
   "execution_count": 59,
   "metadata": {},
   "outputs": [],
   "source": [
    "import pandas as pd\n",
    "import numpy as np\n",
    "import seaborn as sns\n",
    "import matplotlib.pyplot as plt\n",
    "from sklearn.model_selection import train_test_split\n",
    "from sklearn.metrics import confusion_matrix\n",
    "from sklearn.metrics import accuracy_score\n",
    "from sklearn.metrics import classification_report\n",
    "import re\n",
    "import string\n",
    "import pickle"
   ]
  },
  {
   "cell_type": "markdown",
   "metadata": {},
   "source": [
    "### Inserting fake and real dataset"
   ]
  },
  {
   "cell_type": "code",
   "execution_count": 60,
   "metadata": {},
   "outputs": [],
   "source": [
    "df_news = pd.read_csv(\"dataset.csv\")"
   ]
  },
  {
   "cell_type": "code",
   "execution_count": 61,
   "metadata": {},
   "outputs": [],
   "source": [
    "df_news = df_news.drop(\"Unnamed: 0\",axis=1)"
   ]
  },
  {
   "cell_type": "code",
   "execution_count": 62,
   "metadata": {},
   "outputs": [
    {
     "data": {
      "text/plain": [
       "(800, 6)"
      ]
     },
     "execution_count": 62,
     "metadata": {},
     "output_type": "execute_result"
    }
   ],
   "source": [
    "df_news.shape"
   ]
  },
  {
   "cell_type": "code",
   "execution_count": 63,
   "metadata": {},
   "outputs": [
    {
     "data": {
      "text/html": [
       "<div>\n",
       "<style scoped>\n",
       "    .dataframe tbody tr th:only-of-type {\n",
       "        vertical-align: middle;\n",
       "    }\n",
       "\n",
       "    .dataframe tbody tr th {\n",
       "        vertical-align: top;\n",
       "    }\n",
       "\n",
       "    .dataframe thead th {\n",
       "        text-align: right;\n",
       "    }\n",
       "</style>\n",
       "<table border=\"1\" class=\"dataframe\">\n",
       "  <thead>\n",
       "    <tr style=\"text-align: right;\">\n",
       "      <th></th>\n",
       "      <th>title</th>\n",
       "      <th>url</th>\n",
       "      <th>timestamp</th>\n",
       "      <th>short_desc</th>\n",
       "      <th>source</th>\n",
       "      <th>target</th>\n",
       "    </tr>\n",
       "  </thead>\n",
       "  <tbody>\n",
       "    <tr>\n",
       "      <th>0</th>\n",
       "      <td>Davos freezes out Putin and Russian oligarchs</td>\n",
       "      <td>https://www.politico.com/news/2022/03/08/davos...</td>\n",
       "      <td>2022-03-08 21:51:17</td>\n",
       "      <td>World Economic Forum is siding with Ukraine, a...</td>\n",
       "      <td>Politico</td>\n",
       "      <td>0</td>\n",
       "    </tr>\n",
       "    <tr>\n",
       "      <th>1</th>\n",
       "      <td>Makeshift arms are pouring out of Ukraine’s at...</td>\n",
       "      <td>https://www.economist.com/science-and-technolo...</td>\n",
       "      <td>2022-03-08 22:00:00</td>\n",
       "      <td>They will make life unpleasant for the invaders</td>\n",
       "      <td>The Economist</td>\n",
       "      <td>0</td>\n",
       "    </tr>\n",
       "    <tr>\n",
       "      <th>2</th>\n",
       "      <td>Leaders of Self-proclaimed Separatist Republi...</td>\n",
       "      <td>https://www.stopfake.org/en/fake-leaders-of-se...</td>\n",
       "      <td>2020-12-03 21:23:00</td>\n",
       "      <td>\\nRussian media featured several stories this ...</td>\n",
       "      <td>ria.ru</td>\n",
       "      <td>1</td>\n",
       "    </tr>\n",
       "    <tr>\n",
       "      <th>3</th>\n",
       "      <td>Senior Defense Official Holds a Background Bri...</td>\n",
       "      <td>https://www.defense.gov/News/Transcripts/Trans...</td>\n",
       "      <td>2022-03-08 21:56:27</td>\n",
       "      <td>A senior defense department official held a ba...</td>\n",
       "      <td>Department of Defense</td>\n",
       "      <td>0</td>\n",
       "    </tr>\n",
       "    <tr>\n",
       "      <th>4</th>\n",
       "      <td>Ukraine’s Foreign Ministry Wants to Make Peac...</td>\n",
       "      <td>https://www.stopfake.org/en/fake-ukraine-s-for...</td>\n",
       "      <td>2020-12-30 23:18:00</td>\n",
       "      <td>\\nPeace with Russia is the main goal of the Uk...</td>\n",
       "      <td>ukraina.ru</td>\n",
       "      <td>1</td>\n",
       "    </tr>\n",
       "    <tr>\n",
       "      <th>5</th>\n",
       "      <td>Bumble App Drops Russia, Belarus Amid Ukraine ...</td>\n",
       "      <td>https://www.newsweek.com/bumble-app-drops-russ...</td>\n",
       "      <td>2022-03-09 21:41:24</td>\n",
       "      <td>Along with providing a dating mechanism, the a...</td>\n",
       "      <td>Newsweek</td>\n",
       "      <td>0</td>\n",
       "    </tr>\n",
       "    <tr>\n",
       "      <th>6</th>\n",
       "      <td>Russia's invasion of Ukraine is driving gas pr...</td>\n",
       "      <td>https://www.usatoday.com/story/money/cars/2022...</td>\n",
       "      <td>2022-02-25 21:49:51</td>\n",
       "      <td>Gas prices are rising across the U.S. followin...</td>\n",
       "      <td>USA Today</td>\n",
       "      <td>0</td>\n",
       "    </tr>\n",
       "    <tr>\n",
       "      <th>7</th>\n",
       "      <td>Twitter launches Tor service bypassing Russia'...</td>\n",
       "      <td>https://apnews.com/f1da10285a1631542b332597c5d...</td>\n",
       "      <td>2022-03-09 21:43:28</td>\n",
       "      <td>Twitter has launched a privacy-protected versi...</td>\n",
       "      <td>Associated Press</td>\n",
       "      <td>0</td>\n",
       "    </tr>\n",
       "    <tr>\n",
       "      <th>8</th>\n",
       "      <td>Dow futures fall 300 points as oil prices spik...</td>\n",
       "      <td>https://slashdot.org/firehose.pl?op=view&amp;amp;i...</td>\n",
       "      <td>2022-03-06 21:52:57</td>\n",
       "      <td>Dow futures fall 300 points as oil prices spik...</td>\n",
       "      <td>Slashdot.org</td>\n",
       "      <td>0</td>\n",
       "    </tr>\n",
       "    <tr>\n",
       "      <th>9</th>\n",
       "      <td>U.S., EU, U.K. agree to remove selected Russia...</td>\n",
       "      <td>https://www.thestar.com/news/world/2022/02/26/...</td>\n",
       "      <td>2022-02-26 21:35:32</td>\n",
       "      <td>The measures were announced jointly as part of...</td>\n",
       "      <td>Toronto Star</td>\n",
       "      <td>0</td>\n",
       "    </tr>\n",
       "    <tr>\n",
       "      <th>10</th>\n",
       "      <td>Peru Cancels AN-178 Plane Contract with Ukraine</td>\n",
       "      <td>https://www.stopfake.org/en/fake-peru-cancels-...</td>\n",
       "      <td>2020-11-25 16:16:00</td>\n",
       "      <td>\\nDuring a November 12 online conference with ...</td>\n",
       "      <td>ria.ru</td>\n",
       "      <td>1</td>\n",
       "    </tr>\n",
       "    <tr>\n",
       "      <th>11</th>\n",
       "      <td>Russia suspends Soyuz rocket launches over Eur...</td>\n",
       "      <td>https://www.theverge.com/2022/2/26/22952535/ru...</td>\n",
       "      <td>2022-02-26 21:56:25</td>\n",
       "      <td>Russia’s space agency has temporarily halted S...</td>\n",
       "      <td>The Verge</td>\n",
       "      <td>0</td>\n",
       "    </tr>\n",
       "    <tr>\n",
       "      <th>12</th>\n",
       "      <td>First Mover Asia: Signs Point Upward for Crypt...</td>\n",
       "      <td>https://www.coindesk.com/markets/2022/03/09/fi...</td>\n",
       "      <td>2022-03-09 21:50:36</td>\n",
       "      <td>India's finance minister says the country will...</td>\n",
       "      <td>CoinDesk</td>\n",
       "      <td>0</td>\n",
       "    </tr>\n",
       "    <tr>\n",
       "      <th>13</th>\n",
       "      <td>Switzerland – prime minister visits the hospi...</td>\n",
       "      <td>https://www.stopfake.org/en/fake-switzerland-p...</td>\n",
       "      <td>2020-12-21 11:48:00</td>\n",
       "      <td>\\nAn article suggesting that the Swiss prime m...</td>\n",
       "      <td>arcinfo.ch</td>\n",
       "      <td>1</td>\n",
       "    </tr>\n",
       "    <tr>\n",
       "      <th>14</th>\n",
       "      <td>Chelsea sale on hold as Roman Abramovich sanct...</td>\n",
       "      <td>https://www.independent.co.uk/sport/football/r...</td>\n",
       "      <td>2022-03-10 07:55:26</td>\n",
       "      <td>The 55-year-old put Chelsea up for sale on Mar...</td>\n",
       "      <td>Independent</td>\n",
       "      <td>0</td>\n",
       "    </tr>\n",
       "    <tr>\n",
       "      <th>15</th>\n",
       "      <td>Russia takes small Ukrainian town with naval b...</td>\n",
       "      <td>https://www.dailymail.co.uk/news/article-10558...</td>\n",
       "      <td>2022-02-27 21:45:55</td>\n",
       "      <td>Russian forces are said to have taken a small ...</td>\n",
       "      <td>Daily Mail</td>\n",
       "      <td>0</td>\n",
       "    </tr>\n",
       "    <tr>\n",
       "      <th>16</th>\n",
       "      <td>North Korea fires ballistic missile in resumpt...</td>\n",
       "      <td>https://www.bostonglobe.com/2022/02/27/world/n...</td>\n",
       "      <td>2022-02-27 21:51:41</td>\n",
       "      <td>The missile launch was the eighth of its kind ...</td>\n",
       "      <td>The Boston Globe</td>\n",
       "      <td>0</td>\n",
       "    </tr>\n",
       "    <tr>\n",
       "      <th>17</th>\n",
       "      <td>Nasdaq Enters Bear Market Territory. Ukraine a...</td>\n",
       "      <td>https://www.barrons.com/articles/nasdaq-compos...</td>\n",
       "      <td>2022-03-07 21:35:00</td>\n",
       "      <td>The Nasdaq Composite index is officially in a ...</td>\n",
       "      <td>Barron's</td>\n",
       "      <td>0</td>\n",
       "    </tr>\n",
       "    <tr>\n",
       "      <th>18</th>\n",
       "      <td>Bellator MMA Champion Yaroslav Amosov Staying ...</td>\n",
       "      <td>https://brobible.com/sports/article/bellator-m...</td>\n",
       "      <td>2022-02-27 21:44:25</td>\n",
       "      <td>Bellator welterweight champion Yaroslav Amosov...</td>\n",
       "      <td>BroBible</td>\n",
       "      <td>0</td>\n",
       "    </tr>\n",
       "    <tr>\n",
       "      <th>19</th>\n",
       "      <td>U.S., U.K. and EU to remove select Russian ban...</td>\n",
       "      <td>https://www.cbsnews.com/news/swift-banking-sys...</td>\n",
       "      <td>2022-02-26 21:44:24</td>\n",
       "      <td>The disconnection from SWIFT announced by the ...</td>\n",
       "      <td>CBS News</td>\n",
       "      <td>0</td>\n",
       "    </tr>\n",
       "  </tbody>\n",
       "</table>\n",
       "</div>"
      ],
      "text/plain": [
       "                                                title  \\\n",
       "0       Davos freezes out Putin and Russian oligarchs   \n",
       "1   Makeshift arms are pouring out of Ukraine’s at...   \n",
       "2    Leaders of Self-proclaimed Separatist Republi...   \n",
       "3   Senior Defense Official Holds a Background Bri...   \n",
       "4    Ukraine’s Foreign Ministry Wants to Make Peac...   \n",
       "5   Bumble App Drops Russia, Belarus Amid Ukraine ...   \n",
       "6   Russia's invasion of Ukraine is driving gas pr...   \n",
       "7   Twitter launches Tor service bypassing Russia'...   \n",
       "8   Dow futures fall 300 points as oil prices spik...   \n",
       "9   U.S., EU, U.K. agree to remove selected Russia...   \n",
       "10    Peru Cancels AN-178 Plane Contract with Ukraine   \n",
       "11  Russia suspends Soyuz rocket launches over Eur...   \n",
       "12  First Mover Asia: Signs Point Upward for Crypt...   \n",
       "13   Switzerland – prime minister visits the hospi...   \n",
       "14  Chelsea sale on hold as Roman Abramovich sanct...   \n",
       "15  Russia takes small Ukrainian town with naval b...   \n",
       "16  North Korea fires ballistic missile in resumpt...   \n",
       "17  Nasdaq Enters Bear Market Territory. Ukraine a...   \n",
       "18  Bellator MMA Champion Yaroslav Amosov Staying ...   \n",
       "19  U.S., U.K. and EU to remove select Russian ban...   \n",
       "\n",
       "                                                  url            timestamp  \\\n",
       "0   https://www.politico.com/news/2022/03/08/davos...  2022-03-08 21:51:17   \n",
       "1   https://www.economist.com/science-and-technolo...  2022-03-08 22:00:00   \n",
       "2   https://www.stopfake.org/en/fake-leaders-of-se...  2020-12-03 21:23:00   \n",
       "3   https://www.defense.gov/News/Transcripts/Trans...  2022-03-08 21:56:27   \n",
       "4   https://www.stopfake.org/en/fake-ukraine-s-for...  2020-12-30 23:18:00   \n",
       "5   https://www.newsweek.com/bumble-app-drops-russ...  2022-03-09 21:41:24   \n",
       "6   https://www.usatoday.com/story/money/cars/2022...  2022-02-25 21:49:51   \n",
       "7   https://apnews.com/f1da10285a1631542b332597c5d...  2022-03-09 21:43:28   \n",
       "8   https://slashdot.org/firehose.pl?op=view&amp;i...  2022-03-06 21:52:57   \n",
       "9   https://www.thestar.com/news/world/2022/02/26/...  2022-02-26 21:35:32   \n",
       "10  https://www.stopfake.org/en/fake-peru-cancels-...  2020-11-25 16:16:00   \n",
       "11  https://www.theverge.com/2022/2/26/22952535/ru...  2022-02-26 21:56:25   \n",
       "12  https://www.coindesk.com/markets/2022/03/09/fi...  2022-03-09 21:50:36   \n",
       "13  https://www.stopfake.org/en/fake-switzerland-p...  2020-12-21 11:48:00   \n",
       "14  https://www.independent.co.uk/sport/football/r...  2022-03-10 07:55:26   \n",
       "15  https://www.dailymail.co.uk/news/article-10558...  2022-02-27 21:45:55   \n",
       "16  https://www.bostonglobe.com/2022/02/27/world/n...  2022-02-27 21:51:41   \n",
       "17  https://www.barrons.com/articles/nasdaq-compos...  2022-03-07 21:35:00   \n",
       "18  https://brobible.com/sports/article/bellator-m...  2022-02-27 21:44:25   \n",
       "19  https://www.cbsnews.com/news/swift-banking-sys...  2022-02-26 21:44:24   \n",
       "\n",
       "                                           short_desc                 source  \\\n",
       "0   World Economic Forum is siding with Ukraine, a...               Politico   \n",
       "1     They will make life unpleasant for the invaders          The Economist   \n",
       "2   \\nRussian media featured several stories this ...                 ria.ru   \n",
       "3   A senior defense department official held a ba...  Department of Defense   \n",
       "4   \\nPeace with Russia is the main goal of the Uk...             ukraina.ru   \n",
       "5   Along with providing a dating mechanism, the a...               Newsweek   \n",
       "6   Gas prices are rising across the U.S. followin...              USA Today   \n",
       "7   Twitter has launched a privacy-protected versi...       Associated Press   \n",
       "8   Dow futures fall 300 points as oil prices spik...           Slashdot.org   \n",
       "9   The measures were announced jointly as part of...           Toronto Star   \n",
       "10  \\nDuring a November 12 online conference with ...                 ria.ru   \n",
       "11  Russia’s space agency has temporarily halted S...              The Verge   \n",
       "12  India's finance minister says the country will...               CoinDesk   \n",
       "13  \\nAn article suggesting that the Swiss prime m...             arcinfo.ch   \n",
       "14  The 55-year-old put Chelsea up for sale on Mar...            Independent   \n",
       "15  Russian forces are said to have taken a small ...             Daily Mail   \n",
       "16  The missile launch was the eighth of its kind ...       The Boston Globe   \n",
       "17  The Nasdaq Composite index is officially in a ...               Barron's   \n",
       "18  Bellator welterweight champion Yaroslav Amosov...               BroBible   \n",
       "19  The disconnection from SWIFT announced by the ...               CBS News   \n",
       "\n",
       "    target  \n",
       "0        0  \n",
       "1        0  \n",
       "2        1  \n",
       "3        0  \n",
       "4        1  \n",
       "5        0  \n",
       "6        0  \n",
       "7        0  \n",
       "8        0  \n",
       "9        0  \n",
       "10       1  \n",
       "11       0  \n",
       "12       0  \n",
       "13       1  \n",
       "14       0  \n",
       "15       0  \n",
       "16       0  \n",
       "17       0  \n",
       "18       0  \n",
       "19       0  "
      ]
     },
     "execution_count": 63,
     "metadata": {},
     "output_type": "execute_result"
    }
   ],
   "source": [
    "df_news.head(20)"
   ]
  },
  {
   "cell_type": "code",
   "execution_count": 64,
   "metadata": {},
   "outputs": [],
   "source": [
    "df = df_news.drop([\"url\", \"timestamp\",\"short_desc\",\"source\"], axis = 1)"
   ]
  },
  {
   "cell_type": "code",
   "execution_count": 65,
   "metadata": {},
   "outputs": [
    {
     "data": {
      "text/html": [
       "<div>\n",
       "<style scoped>\n",
       "    .dataframe tbody tr th:only-of-type {\n",
       "        vertical-align: middle;\n",
       "    }\n",
       "\n",
       "    .dataframe tbody tr th {\n",
       "        vertical-align: top;\n",
       "    }\n",
       "\n",
       "    .dataframe thead th {\n",
       "        text-align: right;\n",
       "    }\n",
       "</style>\n",
       "<table border=\"1\" class=\"dataframe\">\n",
       "  <thead>\n",
       "    <tr style=\"text-align: right;\">\n",
       "      <th></th>\n",
       "      <th>title</th>\n",
       "      <th>target</th>\n",
       "    </tr>\n",
       "  </thead>\n",
       "  <tbody>\n",
       "    <tr>\n",
       "      <th>0</th>\n",
       "      <td>Davos freezes out Putin and Russian oligarchs</td>\n",
       "      <td>0</td>\n",
       "    </tr>\n",
       "    <tr>\n",
       "      <th>1</th>\n",
       "      <td>Makeshift arms are pouring out of Ukraine’s at...</td>\n",
       "      <td>0</td>\n",
       "    </tr>\n",
       "    <tr>\n",
       "      <th>2</th>\n",
       "      <td>Leaders of Self-proclaimed Separatist Republi...</td>\n",
       "      <td>1</td>\n",
       "    </tr>\n",
       "    <tr>\n",
       "      <th>3</th>\n",
       "      <td>Senior Defense Official Holds a Background Bri...</td>\n",
       "      <td>0</td>\n",
       "    </tr>\n",
       "    <tr>\n",
       "      <th>4</th>\n",
       "      <td>Ukraine’s Foreign Ministry Wants to Make Peac...</td>\n",
       "      <td>1</td>\n",
       "    </tr>\n",
       "    <tr>\n",
       "      <th>...</th>\n",
       "      <td>...</td>\n",
       "      <td>...</td>\n",
       "    </tr>\n",
       "    <tr>\n",
       "      <th>795</th>\n",
       "      <td>Thousands of Russians Urgently Leaving Ukraine</td>\n",
       "      <td>1</td>\n",
       "    </tr>\n",
       "    <tr>\n",
       "      <th>796</th>\n",
       "      <td>Ukrainian cities Kharkiv, Mykolayiv and Odesa...</td>\n",
       "      <td>1</td>\n",
       "    </tr>\n",
       "    <tr>\n",
       "      <th>797</th>\n",
       "      <td>Mastercard, Visa suspend operations in Russia ...</td>\n",
       "      <td>0</td>\n",
       "    </tr>\n",
       "    <tr>\n",
       "      <th>798</th>\n",
       "      <td>EU Proposes Sanctions on Some of Russia's Weal...</td>\n",
       "      <td>0</td>\n",
       "    </tr>\n",
       "    <tr>\n",
       "      <th>799</th>\n",
       "      <td>Kyiv Blackmailing the West because of Crimea</td>\n",
       "      <td>1</td>\n",
       "    </tr>\n",
       "  </tbody>\n",
       "</table>\n",
       "<p>800 rows × 2 columns</p>\n",
       "</div>"
      ],
      "text/plain": [
       "                                                 title  target\n",
       "0        Davos freezes out Putin and Russian oligarchs       0\n",
       "1    Makeshift arms are pouring out of Ukraine’s at...       0\n",
       "2     Leaders of Self-proclaimed Separatist Republi...       1\n",
       "3    Senior Defense Official Holds a Background Bri...       0\n",
       "4     Ukraine’s Foreign Ministry Wants to Make Peac...       1\n",
       "..                                                 ...     ...\n",
       "795     Thousands of Russians Urgently Leaving Ukraine       1\n",
       "796   Ukrainian cities Kharkiv, Mykolayiv and Odesa...       1\n",
       "797  Mastercard, Visa suspend operations in Russia ...       0\n",
       "798  EU Proposes Sanctions on Some of Russia's Weal...       0\n",
       "799       Kyiv Blackmailing the West because of Crimea       1\n",
       "\n",
       "[800 rows x 2 columns]"
      ]
     },
     "execution_count": 65,
     "metadata": {},
     "output_type": "execute_result"
    }
   ],
   "source": [
    "df"
   ]
  },
  {
   "cell_type": "code",
   "execution_count": 66,
   "metadata": {},
   "outputs": [
    {
     "data": {
      "text/plain": [
       "(800, 2)"
      ]
     },
     "execution_count": 66,
     "metadata": {},
     "output_type": "execute_result"
    }
   ],
   "source": [
    "df.shape"
   ]
  },
  {
   "cell_type": "code",
   "execution_count": 67,
   "metadata": {},
   "outputs": [
    {
     "data": {
      "text/plain": [
       "title     0\n",
       "target    0\n",
       "dtype: int64"
      ]
     },
     "execution_count": 67,
     "metadata": {},
     "output_type": "execute_result"
    }
   ],
   "source": [
    "df.isnull().sum()"
   ]
  },
  {
   "cell_type": "markdown",
   "metadata": {},
   "source": [
    "#### Randomly shuffling the dataframe "
   ]
  },
  {
   "cell_type": "code",
   "execution_count": 68,
   "metadata": {},
   "outputs": [],
   "source": [
    "df = df.sample(frac = 1)"
   ]
  },
  {
   "cell_type": "code",
   "execution_count": 69,
   "metadata": {},
   "outputs": [
    {
     "data": {
      "text/html": [
       "<div>\n",
       "<style scoped>\n",
       "    .dataframe tbody tr th:only-of-type {\n",
       "        vertical-align: middle;\n",
       "    }\n",
       "\n",
       "    .dataframe tbody tr th {\n",
       "        vertical-align: top;\n",
       "    }\n",
       "\n",
       "    .dataframe thead th {\n",
       "        text-align: right;\n",
       "    }\n",
       "</style>\n",
       "<table border=\"1\" class=\"dataframe\">\n",
       "  <thead>\n",
       "    <tr style=\"text-align: right;\">\n",
       "      <th></th>\n",
       "      <th>title</th>\n",
       "      <th>target</th>\n",
       "    </tr>\n",
       "  </thead>\n",
       "  <tbody>\n",
       "    <tr>\n",
       "      <th>621</th>\n",
       "      <td>Airstrike hits Ukraine maternity hospital, 17 ...</td>\n",
       "      <td>0</td>\n",
       "    </tr>\n",
       "    <tr>\n",
       "      <th>747</th>\n",
       "      <td>Russian invasion drives up energy costs, and A...</td>\n",
       "      <td>0</td>\n",
       "    </tr>\n",
       "    <tr>\n",
       "      <th>115</th>\n",
       "      <td>Polls Show People Don’t Believe Russia Shot D...</td>\n",
       "      <td>1</td>\n",
       "    </tr>\n",
       "    <tr>\n",
       "      <th>74</th>\n",
       "      <td>OSCE Confirms Ukraine’s Military Violating In...</td>\n",
       "      <td>1</td>\n",
       "    </tr>\n",
       "    <tr>\n",
       "      <th>302</th>\n",
       "      <td>Rouble Slumps To New Low Of $132.5 As Moscow's...</td>\n",
       "      <td>0</td>\n",
       "    </tr>\n",
       "  </tbody>\n",
       "</table>\n",
       "</div>"
      ],
      "text/plain": [
       "                                                 title  target\n",
       "621  Airstrike hits Ukraine maternity hospital, 17 ...       0\n",
       "747  Russian invasion drives up energy costs, and A...       0\n",
       "115   Polls Show People Don’t Believe Russia Shot D...       1\n",
       "74    OSCE Confirms Ukraine’s Military Violating In...       1\n",
       "302  Rouble Slumps To New Low Of $132.5 As Moscow's...       0"
      ]
     },
     "execution_count": 69,
     "metadata": {},
     "output_type": "execute_result"
    }
   ],
   "source": [
    "df.head()"
   ]
  },
  {
   "cell_type": "code",
   "execution_count": 70,
   "metadata": {},
   "outputs": [],
   "source": [
    "df.reset_index(inplace = True)\n",
    "df.drop([\"index\"], axis = 1, inplace = True)"
   ]
  },
  {
   "cell_type": "code",
   "execution_count": 71,
   "metadata": {},
   "outputs": [
    {
     "data": {
      "text/plain": [
       "Index(['title', 'target'], dtype='object')"
      ]
     },
     "execution_count": 71,
     "metadata": {},
     "output_type": "execute_result"
    }
   ],
   "source": [
    "df.columns"
   ]
  },
  {
   "cell_type": "code",
   "execution_count": 72,
   "metadata": {},
   "outputs": [
    {
     "data": {
      "text/html": [
       "<div>\n",
       "<style scoped>\n",
       "    .dataframe tbody tr th:only-of-type {\n",
       "        vertical-align: middle;\n",
       "    }\n",
       "\n",
       "    .dataframe tbody tr th {\n",
       "        vertical-align: top;\n",
       "    }\n",
       "\n",
       "    .dataframe thead th {\n",
       "        text-align: right;\n",
       "    }\n",
       "</style>\n",
       "<table border=\"1\" class=\"dataframe\">\n",
       "  <thead>\n",
       "    <tr style=\"text-align: right;\">\n",
       "      <th></th>\n",
       "      <th>title</th>\n",
       "      <th>target</th>\n",
       "    </tr>\n",
       "  </thead>\n",
       "  <tbody>\n",
       "    <tr>\n",
       "      <th>0</th>\n",
       "      <td>Airstrike hits Ukraine maternity hospital, 17 ...</td>\n",
       "      <td>0</td>\n",
       "    </tr>\n",
       "    <tr>\n",
       "      <th>1</th>\n",
       "      <td>Russian invasion drives up energy costs, and A...</td>\n",
       "      <td>0</td>\n",
       "    </tr>\n",
       "    <tr>\n",
       "      <th>2</th>\n",
       "      <td>Polls Show People Don’t Believe Russia Shot D...</td>\n",
       "      <td>1</td>\n",
       "    </tr>\n",
       "    <tr>\n",
       "      <th>3</th>\n",
       "      <td>OSCE Confirms Ukraine’s Military Violating In...</td>\n",
       "      <td>1</td>\n",
       "    </tr>\n",
       "    <tr>\n",
       "      <th>4</th>\n",
       "      <td>Rouble Slumps To New Low Of $132.5 As Moscow's...</td>\n",
       "      <td>0</td>\n",
       "    </tr>\n",
       "  </tbody>\n",
       "</table>\n",
       "</div>"
      ],
      "text/plain": [
       "                                               title  target\n",
       "0  Airstrike hits Ukraine maternity hospital, 17 ...       0\n",
       "1  Russian invasion drives up energy costs, and A...       0\n",
       "2   Polls Show People Don’t Believe Russia Shot D...       1\n",
       "3   OSCE Confirms Ukraine’s Military Violating In...       1\n",
       "4  Rouble Slumps To New Low Of $132.5 As Moscow's...       0"
      ]
     },
     "execution_count": 72,
     "metadata": {},
     "output_type": "execute_result"
    }
   ],
   "source": [
    "df.head()"
   ]
  },
  {
   "cell_type": "markdown",
   "metadata": {},
   "source": [
    "#### Creating a function to convert the text in lowercase, remove the extra space, special chr., ulr and links."
   ]
  },
  {
   "cell_type": "code",
   "execution_count": 73,
   "metadata": {},
   "outputs": [],
   "source": [
    "def wordopt(text):\n",
    "    text = text.lower()\n",
    "    text = re.sub('\\[.*?\\]', '', text)\n",
    "    text = re.sub(\"\\\\W\",\" \",text) \n",
    "    text = re.sub('https?://\\S+|www\\.\\S+', '', text)\n",
    "    text = re.sub('<.*?>+', '', text)\n",
    "    text = re.sub('[%s]' % re.escape(string.punctuation), '', text)\n",
    "    text = re.sub('\\n', '', text)\n",
    "    text = re.sub('\\w*\\d\\w*', '', text)    \n",
    "    return text"
   ]
  },
  {
   "cell_type": "code",
   "execution_count": 74,
   "metadata": {},
   "outputs": [],
   "source": [
    "df[\"text\"] = df[\"title\"].apply(wordopt)"
   ]
  },
  {
   "cell_type": "markdown",
   "metadata": {},
   "source": [
    "#### Defining dependent and independent variable as x and y"
   ]
  },
  {
   "cell_type": "code",
   "execution_count": 75,
   "metadata": {},
   "outputs": [],
   "source": [
    "x = df.iloc[:, 0].values\n",
    "y = df.iloc[:, 1].values"
   ]
  },
  {
   "cell_type": "code",
   "execution_count": 76,
   "metadata": {},
   "outputs": [
    {
     "data": {
      "image/png": "[encoded data removed]",
      "text/plain": [
       "<Figure size 432x288 with 1 Axes>"
      ]
     },
     "metadata": {},
     "output_type": "display_data"
    },
    {
     "name": "stdout",
     "output_type": "stream",
     "text": [
      "Fake :  570\n",
      "Real  : 230\n"
     ]
    }
   ],
   "source": [
    "\n",
    "class_one = 0\n",
    "class_two = 0\n",
    "\n",
    "# for loop to itreate through the output class\n",
    "for i in y:\n",
    "    if i ==0:\n",
    "        class_one+=1\n",
    "    else:\n",
    "        class_two+=1\n",
    "\n",
    "# creating numpy arry\n",
    "values = np.array([class_one, class_two])\n",
    "label = [\"Fake\", \"Real\"]\n",
    "\n",
    "# ploting the graph\n",
    "plt.pie(values, labels = label)\n",
    "plt.show()\n",
    "\n",
    "# printing the results\n",
    "print(\"Fake : \", class_one)\n",
    "print(\"Real  :\", class_two)"
   ]
  },
  {
   "cell_type": "markdown",
   "metadata": {},
   "source": [
    "#### Splitting the dataset into training set and testing set. "
   ]
  },
  {
   "cell_type": "code",
   "execution_count": 77,
   "metadata": {},
   "outputs": [],
   "source": [
    "x_train, x_test, y_train, y_test = train_test_split(x, y, test_size=0.25)"
   ]
  },
  {
   "cell_type": "markdown",
   "metadata": {},
   "source": [
    "#### Convert text to vectors"
   ]
  },
  {
   "cell_type": "code",
   "execution_count": 78,
   "metadata": {},
   "outputs": [],
   "source": [
    "from sklearn.feature_extraction.text import TfidfVectorizer"
   ]
  },
  {
   "cell_type": "code",
   "execution_count": 79,
   "metadata": {},
   "outputs": [],
   "source": [
    "vectorization = TfidfVectorizer()\n",
    "xv_train = vectorization.fit_transform(x_train)\n",
    "xv_test = vectorization.transform(x_test)"
   ]
  },
  {
   "cell_type": "markdown",
   "metadata": {},
   "source": [
    "### 1. Logistic Regression"
   ]
  },
  {
   "cell_type": "code",
   "execution_count": 80,
   "metadata": {},
   "outputs": [],
   "source": [
    "from sklearn.linear_model import LogisticRegression"
   ]
  },
  {
   "cell_type": "code",
   "execution_count": 81,
   "metadata": {},
   "outputs": [
    {
     "data": {
      "text/plain": [
       "LogisticRegression()"
      ]
     },
     "execution_count": 81,
     "metadata": {},
     "output_type": "execute_result"
    }
   ],
   "source": [
    "LR = LogisticRegression()\n",
    "LR.fit(xv_train,y_train)"
   ]
  },
  {
   "cell_type": "code",
   "execution_count": 82,
   "metadata": {},
   "outputs": [],
   "source": [
    "pred_lr=LR.predict(xv_test)"
   ]
  },
  {
   "cell_type": "code",
   "execution_count": 83,
   "metadata": {},
   "outputs": [
    {
     "data": {
      "text/plain": [
       "0.79"
      ]
     },
     "execution_count": 83,
     "metadata": {},
     "output_type": "execute_result"
    }
   ],
   "source": [
    "LR.score(xv_test, y_test)"
   ]
  },
  {
   "cell_type": "code",
   "execution_count": 84,
   "metadata": {},
   "outputs": [
    {
     "name": "stdout",
     "output_type": "stream",
     "text": [
      "              precision    recall  f1-score   support\n",
      "\n",
      "           0       0.77      1.00      0.87       144\n",
      "           1       1.00      0.25      0.40        56\n",
      "\n",
      "    accuracy                           0.79       200\n",
      "   macro avg       0.89      0.62      0.64       200\n",
      "weighted avg       0.84      0.79      0.74       200\n",
      "\n"
     ]
    }
   ],
   "source": [
    "print(classification_report(y_test, pred_lr))"
   ]
  },
  {
   "cell_type": "code",
   "execution_count": 85,
   "metadata": {},
   "outputs": [
    {
     "data": {
      "image/png": "[encoded data removed]",
      "text/plain": [
       "<Figure size 432x288 with 2 Axes>"
      ]
     },
     "metadata": {
      "needs_background": "light"
     },
     "output_type": "display_data"
    }
   ],
   "source": [
    "#Confusion Matrix also known as Error Matrix to check performannce of algorithm\n",
    "from sklearn import metrics\n",
    "cm = metrics.confusion_matrix(y_test, pred_lr)\n",
    "cm = cm.astype('float') / cm.sum(axis=1)[:, np.newaxis]\n",
    "sns.heatmap(cm, annot=True)\n",
    "plt.show()"
   ]
  },
  {
   "cell_type": "code",
   "execution_count": 86,
   "metadata": {},
   "outputs": [
    {
     "name": "stdout",
     "output_type": "stream",
     "text": [
      "(Logistic Regression) Accuracy =  79.0\n"
     ]
    }
   ],
   "source": [
    "print(\"(Logistic Regression) Accuracy = \",metrics.accuracy_score(y_test, pred_lr)*100)"
   ]
  },
  {
   "cell_type": "markdown",
   "metadata": {},
   "source": [
    "### 2. Decision Tree Classification"
   ]
  },
  {
   "cell_type": "code",
   "execution_count": 87,
   "metadata": {},
   "outputs": [],
   "source": [
    "from sklearn.tree import DecisionTreeClassifier\n",
    "from sklearn import metrics"
   ]
  },
  {
   "cell_type": "code",
   "execution_count": 88,
   "metadata": {},
   "outputs": [
    {
     "data": {
      "text/plain": [
       "DecisionTreeClassifier()"
      ]
     },
     "execution_count": 88,
     "metadata": {},
     "output_type": "execute_result"
    }
   ],
   "source": [
    "DT = DecisionTreeClassifier()\n",
    "DT.fit(xv_train, y_train)"
   ]
  },
  {
   "cell_type": "code",
   "execution_count": 89,
   "metadata": {},
   "outputs": [],
   "source": [
    "pred_dt = DT.predict(xv_test)"
   ]
  },
  {
   "cell_type": "code",
   "execution_count": 90,
   "metadata": {},
   "outputs": [
    {
     "data": {
      "text/plain": [
       "0.735"
      ]
     },
     "execution_count": 90,
     "metadata": {},
     "output_type": "execute_result"
    }
   ],
   "source": [
    "DT.score(xv_test, y_test)"
   ]
  },
  {
   "cell_type": "code",
   "execution_count": 91,
   "metadata": {},
   "outputs": [
    {
     "name": "stdout",
     "output_type": "stream",
     "text": [
      "              precision    recall  f1-score   support\n",
      "\n",
      "           0       0.86      0.76      0.80       144\n",
      "           1       0.52      0.68      0.59        56\n",
      "\n",
      "    accuracy                           0.73       200\n",
      "   macro avg       0.69      0.72      0.70       200\n",
      "weighted avg       0.76      0.73      0.74       200\n",
      "\n"
     ]
    }
   ],
   "source": [
    "print(classification_report(y_test, pred_dt))"
   ]
  },
  {
   "cell_type": "code",
   "execution_count": 92,
   "metadata": {},
   "outputs": [
    {
     "data": {
      "image/png": "[encoded data removed]",
      "text/plain": [
       "<Figure size 432x288 with 2 Axes>"
      ]
     },
     "metadata": {
      "needs_background": "light"
     },
     "output_type": "display_data"
    }
   ],
   "source": [
    "cm = metrics.confusion_matrix(y_test, pred_dt)\n",
    "cm = cm.astype('float') / cm.sum(axis=1)[:, np.newaxis]\n",
    "sns.heatmap(cm, annot=True)\n",
    "plt.title(\"Decision Tree Classification\")\n",
    "plt.show()"
   ]
  },
  {
   "cell_type": "code",
   "execution_count": 93,
   "metadata": {},
   "outputs": [
    {
     "name": "stdout",
     "output_type": "stream",
     "text": [
      "(Decision Tree Classification) Accuracy =  73.5\n"
     ]
    }
   ],
   "source": [
    "print(\"(Decision Tree Classification) Accuracy = \",metrics.accuracy_score(y_test, pred_dt)*100)"
   ]
  },
  {
   "cell_type": "markdown",
   "metadata": {},
   "source": [
    "### 3. Gradient Boosting Classifier"
   ]
  },
  {
   "cell_type": "code",
   "execution_count": 94,
   "metadata": {},
   "outputs": [],
   "source": [
    "from sklearn.ensemble import GradientBoostingClassifier\n",
    "from sklearn import metrics"
   ]
  },
  {
   "cell_type": "code",
   "execution_count": 95,
   "metadata": {},
   "outputs": [
    {
     "data": {
      "text/plain": [
       "GradientBoostingClassifier(random_state=0)"
      ]
     },
     "execution_count": 95,
     "metadata": {},
     "output_type": "execute_result"
    }
   ],
   "source": [
    "GBC = GradientBoostingClassifier(random_state=0)\n",
    "GBC.fit(xv_train, y_train)"
   ]
  },
  {
   "cell_type": "code",
   "execution_count": 96,
   "metadata": {},
   "outputs": [],
   "source": [
    "pred_gbc = GBC.predict(xv_test)"
   ]
  },
  {
   "cell_type": "code",
   "execution_count": 97,
   "metadata": {},
   "outputs": [
    {
     "data": {
      "text/plain": [
       "0.79"
      ]
     },
     "execution_count": 97,
     "metadata": {},
     "output_type": "execute_result"
    }
   ],
   "source": [
    "GBC.score(xv_test, y_test)"
   ]
  },
  {
   "cell_type": "code",
   "execution_count": 98,
   "metadata": {},
   "outputs": [
    {
     "name": "stdout",
     "output_type": "stream",
     "text": [
      "              precision    recall  f1-score   support\n",
      "\n",
      "           0       0.83      0.90      0.86       144\n",
      "           1       0.66      0.52      0.58        56\n",
      "\n",
      "    accuracy                           0.79       200\n",
      "   macro avg       0.74      0.71      0.72       200\n",
      "weighted avg       0.78      0.79      0.78       200\n",
      "\n"
     ]
    }
   ],
   "source": [
    "print(classification_report(y_test, pred_gbc))"
   ]
  },
  {
   "cell_type": "code",
   "execution_count": 99,
   "metadata": {},
   "outputs": [
    {
     "data": {
      "image/png": "[encoded data removed]",
      "text/plain": [
       "<Figure size 432x288 with 2 Axes>"
      ]
     },
     "metadata": {
      "needs_background": "light"
     },
     "output_type": "display_data"
    }
   ],
   "source": [
    "cm = metrics.confusion_matrix(y_test, pred_gbc)\n",
    "cm = cm.astype('float') / cm.sum(axis=1)[:, np.newaxis]\n",
    "sns.heatmap(cm, annot=True)\n",
    "plt.title(\"Gradient Boosting Classifier\")\n",
    "plt.show()"
   ]
  },
  {
   "cell_type": "code",
   "execution_count": 100,
   "metadata": {},
   "outputs": [
    {
     "name": "stdout",
     "output_type": "stream",
     "text": [
      "(Gradient Boosting Classifier) Accuracy =  79.0\n"
     ]
    }
   ],
   "source": [
    "print(\"(Gradient Boosting Classifier) Accuracy = \",metrics.accuracy_score(y_test, pred_gbc)*100)"
   ]
  },
  {
   "cell_type": "markdown",
   "metadata": {},
   "source": [
    "### 4. Random Forest Classifier"
   ]
  },
  {
   "cell_type": "code",
   "execution_count": 101,
   "metadata": {},
   "outputs": [],
   "source": [
    "from sklearn.ensemble import RandomForestClassifier\n",
    "from sklearn import metrics"
   ]
  },
  {
   "cell_type": "code",
   "execution_count": 102,
   "metadata": {},
   "outputs": [
    {
     "data": {
      "text/plain": [
       "RandomForestClassifier(random_state=0)"
      ]
     },
     "execution_count": 102,
     "metadata": {},
     "output_type": "execute_result"
    }
   ],
   "source": [
    "RFC = RandomForestClassifier(random_state=0)\n",
    "RFC.fit(xv_train, y_train)"
   ]
  },
  {
   "cell_type": "code",
   "execution_count": 103,
   "metadata": {},
   "outputs": [],
   "source": [
    "pred_rfc = RFC.predict(xv_test)"
   ]
  },
  {
   "cell_type": "code",
   "execution_count": 104,
   "metadata": {},
   "outputs": [
    {
     "data": {
      "text/plain": [
       "0.81"
      ]
     },
     "execution_count": 104,
     "metadata": {},
     "output_type": "execute_result"
    }
   ],
   "source": [
    "RFC.score(xv_test, y_test)"
   ]
  },
  {
   "cell_type": "code",
   "execution_count": 105,
   "metadata": {},
   "outputs": [
    {
     "name": "stdout",
     "output_type": "stream",
     "text": [
      "              precision    recall  f1-score   support\n",
      "\n",
      "           0       0.85      0.89      0.87       144\n",
      "           1       0.68      0.61      0.64        56\n",
      "\n",
      "    accuracy                           0.81       200\n",
      "   macro avg       0.77      0.75      0.76       200\n",
      "weighted avg       0.80      0.81      0.81       200\n",
      "\n"
     ]
    }
   ],
   "source": [
    "print(classification_report(y_test, pred_rfc))"
   ]
  },
  {
   "cell_type": "code",
   "execution_count": 106,
   "metadata": {},
   "outputs": [
    {
     "data": {
      "image/png": "[encoded data removed]",
      "text/plain": [
       "<Figure size 432x288 with 2 Axes>"
      ]
     },
     "metadata": {
      "needs_background": "light"
     },
     "output_type": "display_data"
    }
   ],
   "source": [
    "cm = metrics.confusion_matrix(y_test, pred_rfc)\n",
    "cm = cm.astype('float') / cm.sum(axis=1)[:, np.newaxis]\n",
    "sns.heatmap(cm, annot=True)\n",
    "plt.title(\"Random Forest Classifier\")\n",
    "plt.show()"
   ]
  },
  {
   "cell_type": "code",
   "execution_count": 107,
   "metadata": {},
   "outputs": [
    {
     "name": "stdout",
     "output_type": "stream",
     "text": [
      "(Random Forest Classifier) Accuracy =  81.0\n"
     ]
    }
   ],
   "source": [
    "print(\"(Random Forest Classifier) Accuracy = \",metrics.accuracy_score(y_test, pred_rfc)*100)"
   ]
  },
  {
   "cell_type": "markdown",
   "metadata": {},
   "source": [
    "## 5. Passive Aggressive Classifier"
   ]
  },
  {
   "cell_type": "code",
   "execution_count": 108,
   "metadata": {},
   "outputs": [],
   "source": [
    "from sklearn.linear_model import PassiveAggressiveClassifier\n",
    "from sklearn import metrics"
   ]
  },
  {
   "cell_type": "code",
   "execution_count": 109,
   "metadata": {},
   "outputs": [
    {
     "data": {
      "text/plain": [
       "PassiveAggressiveClassifier(random_state=0)"
      ]
     },
     "execution_count": 109,
     "metadata": {},
     "output_type": "execute_result"
    }
   ],
   "source": [
    "PAC = PassiveAggressiveClassifier(random_state=0)\n",
    "PAC.fit(xv_train, y_train)"
   ]
  },
  {
   "cell_type": "code",
   "execution_count": 110,
   "metadata": {},
   "outputs": [],
   "source": [
    "pred_pac = PAC.predict(xv_test)"
   ]
  },
  {
   "cell_type": "code",
   "execution_count": 111,
   "metadata": {},
   "outputs": [
    {
     "data": {
      "text/plain": [
       "0.88"
      ]
     },
     "execution_count": 111,
     "metadata": {},
     "output_type": "execute_result"
    }
   ],
   "source": [
    "PAC.score(xv_test, y_test)"
   ]
  },
  {
   "cell_type": "code",
   "execution_count": 112,
   "metadata": {},
   "outputs": [
    {
     "name": "stdout",
     "output_type": "stream",
     "text": [
      "              precision    recall  f1-score   support\n",
      "\n",
      "           0       0.89      0.95      0.92       144\n",
      "           1       0.85      0.70      0.76        56\n",
      "\n",
      "    accuracy                           0.88       200\n",
      "   macro avg       0.87      0.82      0.84       200\n",
      "weighted avg       0.88      0.88      0.88       200\n",
      "\n"
     ]
    }
   ],
   "source": [
    "print(classification_report(y_test, pred_pac))"
   ]
  },
  {
   "cell_type": "code",
   "execution_count": 113,
   "metadata": {},
   "outputs": [
    {
     "data": {
      "image/png": "[encoded data removed]",
      "text/plain": [
       "<Figure size 432x288 with 2 Axes>"
      ]
     },
     "metadata": {
      "needs_background": "light"
     },
     "output_type": "display_data"
    }
   ],
   "source": [
    "cm = metrics.confusion_matrix(y_test, pred_pac)\n",
    "cm = cm.astype('float') / cm.sum(axis=1)[:, np.newaxis]\n",
    "sns.heatmap(cm, annot=True)\n",
    "plt.title(\"Passive Aggressive Classifier\")\n",
    "plt.show()"
   ]
  },
  {
   "cell_type": "code",
   "execution_count": 114,
   "metadata": {},
   "outputs": [
    {
     "name": "stdout",
     "output_type": "stream",
     "text": [
      "(Passive Aggressive Classifier) Accuracy =  88.0\n"
     ]
    }
   ],
   "source": [
    "print(\"(Passive Aggressive Classifier) Accuracy = \",metrics.accuracy_score(y_test, pred_pac)*100)"
   ]
  },
  {
   "cell_type": "markdown",
   "metadata": {},
   "source": [
    "# Model Testing With Manual Entry\n",
    "\n",
    "### News"
   ]
  },
  {
   "cell_type": "code",
   "execution_count": 116,
   "metadata": {},
   "outputs": [],
   "source": [
    "def output_lable(n):\n",
    "    if n == 0:\n",
    "        return \"Fake News\"\n",
    "    elif n == 1:\n",
    "        return \"Real News\"\n",
    "    \n",
    "def manual_testing(news):\n",
    "    testing_news = {\"text\":[news]}\n",
    "    new_def_test = pd.DataFrame(testing_news)\n",
    "    new_def_test[\"text\"] = new_def_test[\"text\"].apply(wordopt) \n",
    "    new_x_test = new_def_test[\"text\"]\n",
    "    new_xv_test = vectorization.transform(new_x_test)\n",
    "    pred_LR = LR.predict(new_xv_test)\n",
    "    pred_DT = DT.predict(new_xv_test)\n",
    "    pred_GBC = GBC.predict(new_xv_test)\n",
    "    pred_RFC = RFC.predict(new_xv_test)\n",
    "    pred_PAC = PAC.predict(new_xv_test)\n",
    "\n",
    "    return print(\"\\n\\nLR Prediction: {} \\nDT Prediction: {} \\nGBC Prediction: {} \\nRFC Prediction: {} \\nPAC Prediction: {}\".format(output_lable(pred_LR[0]), \n",
    "                                                                                                              output_lable(pred_DT[0]), \n",
    "                                                                                                              output_lable(pred_GBC[0]), \n",
    "                                                                                                             output_lable(pred_RFC[0]),\n",
    "                                                                                                            output_lable(pred_PAC[0])))"
   ]
  },
  {
   "cell_type": "code",
   "execution_count": 118,
   "metadata": {},
   "outputs": [
    {
     "name": "stdout",
     "output_type": "stream",
     "text": [
      "During a November 12 online conference with Ukrainian aircraft companies, the Peruvian Ministry of Internal Affairs confirmed that its contract with Ukraine\n",
      "\n",
      "\n",
      "LR Prediction: Fake News \n",
      "DT Prediction: Fake News \n",
      "GBC Prediction: Fake News \n",
      "RFC Prediction: Fake News \n",
      "PAC Prediction: Real News\n"
     ]
    }
   ],
   "source": [
    "news = str(input())\n",
    "manual_testing(news)"
   ]
  },
  {
   "cell_type": "markdown",
   "metadata": {},
   "source": []
  },
  {
   "cell_type": "code",
   "execution_count": 78,
   "metadata": {},
   "outputs": [],
   "source": [
    "pickle.dump(LR, open('lr.pkl','wb'))"
   ]
  },
  {
   "cell_type": "code",
   "execution_count": 77,
   "metadata": {},
   "outputs": [],
   "source": [
    "pickle.dump(PAC, open('pac.pkl','wb'))"
   ]
  },
  {
   "cell_type": "code",
   "execution_count": null,
   "metadata": {},
   "outputs": [],
   "source": []
  }
 ],
 "metadata": {
  "kernelspec": {
   "display_name": "Python 3 (ipykernel)",
   "language": "python",
   "name": "python3"
  },
  "language_info": {
   "codemirror_mode": {
    "name": "ipython",
    "version": 3
   },
   "file_extension": ".py",
   "mimetype": "text/x-python",
   "name": "python",
   "nbconvert_exporter": "python",
   "pygments_lexer": "ipython3",
   "version": "3.9.7"
  }
 },
 "nbformat": 4,
 "nbformat_minor": 2
}
